{
 "cells": [
  {
   "cell_type": "code",
   "execution_count": 51,
   "id": "27611e99",
   "metadata": {},
   "outputs": [],
   "source": [
    "import cv2\n",
    "import numpy as np\n",
    "import math\n",
    "from scipy import ndimage"
   ]
  },
  {
   "cell_type": "code",
   "execution_count": 52,
   "id": "b905fc54",
   "metadata": {},
   "outputs": [],
   "source": [
    "img = cv2.imread('marriage.jpg')\n",
    "#chuyển ảnh màu thành ảnh xám\n",
    "gray_img = cv2.cvtColor(img, cv2.COLOR_BGR2GRAY)"
   ]
  },
  {
   "cell_type": "code",
   "execution_count": 53,
   "id": "ef2adf8e",
   "metadata": {},
   "outputs": [],
   "source": [
    "#lọc Gaussian\n",
    "smooth_img = cv2.GaussianBlur(gray_img,(3,3),0.5,cv2.BORDER_DEFAULT)\n",
    "\n",
    "#lọc Bilateral\n",
    "#smooth_img = cv2.bilateralFilter(gray_img,3,0.5,0.5,cv2.BORDER_DEFAULT)"
   ]
  },
  {
   "cell_type": "code",
   "execution_count": 54,
   "id": "52ea4118",
   "metadata": {},
   "outputs": [],
   "source": [
    "#tính fx,fy bằng sobel\n",
    "fx = cv2.Sobel(smooth_img, cv2.CV_64F, 1, 0, ksize=3)\n",
    "fy = cv2.Sobel(smooth_img, cv2.CV_64F, 0, 1, ksize=3)"
   ]
  },
  {
   "cell_type": "code",
   "execution_count": 64,
   "id": "b8b8fbff",
   "metadata": {},
   "outputs": [],
   "source": [
    "#tính fx,fy bằng roberts\n",
    "# Roberts_Hx = np.array([[0,0,0],\n",
    "#                        [0,1,0],\n",
    "#                        [0,0,-1]])\n",
    "# Roberts_Hy = np.array([[0,0,0],\n",
    "#                        [0,0,1],\n",
    "#                        [0,-1,0]])\n",
    "# fx = ndimage.convolve(smooth_img, Roberts_Hx)\n",
    "# fy = ndimage.convolve(smooth_img, Roberts_Hy)"
   ]
  },
  {
   "cell_type": "code",
   "execution_count": 57,
   "id": "99c3091d",
   "metadata": {},
   "outputs": [],
   "source": [
    "#tính fx,fy theo prewitt\n",
    "# Prewitt_Hx = np.array([[1,0,-1],\n",
    "#                           [1,0,-1],\n",
    "#                           [1,0,-1]])\n",
    "# Prewitt_Hy = np.array([[1,1,1],\n",
    "#                        [0,0,0],\n",
    "#                        [-1,-1,-1]])\n",
    "\n",
    "# fx = cv2.filter2D(smooth_img, -1, Prewitt_Hx)\n",
    "# fy = cv2.filter2D(smooth_img, -1, Prewitt_Hy)"
   ]
  },
  {
   "cell_type": "code",
   "execution_count": 58,
   "id": "8724cff2",
   "metadata": {},
   "outputs": [],
   "source": [
    "#độ lớn của Gradient\n",
    "def Gradient_Magnitude(fx, fy): \n",
    "    mag = abs(fx) + abs(fy)\n",
    "    return np.around(mag)\n",
    "mag = Gradient_Magnitude(fx,fy)"
   ]
  },
  {
   "cell_type": "code",
   "execution_count": 59,
   "id": "648863cb",
   "metadata": {},
   "outputs": [],
   "source": [
    "#hướng của gradient\n",
    "def Gradient_Direction(fx, fy):\n",
    "    g_dir = np.arctan2(fy, fx)* 180 / np.pi\n",
    "    return g_dir\n",
    "dir = Gradient_Direction(fx,fy)"
   ]
  },
  {
   "cell_type": "code",
   "execution_count": 60,
   "id": "ab177880",
   "metadata": {},
   "outputs": [],
   "source": [
    "#ép hướng của gradient về 4 hướng\n",
    "def Digitize_angle(Angle): \n",
    "    angle = np.abs(Angle)\n",
    "    angle[angle <= 22.5] = 0\n",
    "    angle[angle >= 157.5] = 0\n",
    "    angle[(angle > 22.5) * (angle < 67.5)] = 1\n",
    "    angle[(angle >= 67.5) * (angle <= 112.5)] = 2\n",
    "    angle[(angle > 112.5) * (angle <= 157.5)] = 3\n",
    "    return angle\n",
    "dig = Digitize_angle(dir)"
   ]
  },
  {
   "cell_type": "code",
   "execution_count": 61,
   "id": "58796d76",
   "metadata": {},
   "outputs": [],
   "source": [
    "#loại pixel không phải cực đại \n",
    "def Non_Max_Supp(qn, magni):\n",
    "    M = np.zeros(qn.shape)\n",
    "    a = qn.shape[0]\n",
    "    b = qn.shape[1]\n",
    "    for i in range(a-1):\n",
    "        for j in range(b-1):\n",
    "            if qn[i,j] == 0:\n",
    "                if  magni[i,j-1]< magni[i,j] or magni[i,j] > magni[i,j+1]:\n",
    "                    M[i,j] = magni[i,j]\n",
    "                else:\n",
    "                    M[i,j] = 0\n",
    "            if qn[i,j] == 1:\n",
    "                if  magni[i-1,j+1]<= magni[i,j] or magni[i,j] >= magni[i+1,j-1]:\n",
    "                    M[i,j] = magni[i,j]\n",
    "                else:\n",
    "                    M[i,j] = 0       \n",
    "            if qn[i,j] == 2:\n",
    "                if  magni[i-1,j]<= magni[i,j] or magni[i,j] >= magni[i+1,j]:\n",
    "                    M[i,j] = magni[i,j]\n",
    "                else:\n",
    "                    M[i,j] = 0\n",
    "            if qn[i,j] == 3:\n",
    "                if  magni[i-1,j-1]<= magni[i,j] or magni[i,j] >= magni[i+1,j+1]:\n",
    "                    M[i,j] = magni[i,j]\n",
    "                else:\n",
    "                    M[i,j] = 0\n",
    "    return M\n",
    "nms = Non_Max_Supp(dig,mag)"
   ]
  },
  {
   "cell_type": "code",
   "execution_count": 62,
   "id": "28821dcc",
   "metadata": {},
   "outputs": [],
   "source": [
    "#đưa ảnh về 3 mức độ\n",
    "def _double_thresholding(g_suppressed, low_threshold, high_threshold):\n",
    "    g_thresholded = np.zeros(g_suppressed.shape)\n",
    "    for i in range(0, g_suppressed.shape[0]):\n",
    "        for j in range(0, g_suppressed.shape[1]):\n",
    "            if g_suppressed[i,j] < low_threshold:\n",
    "                g_thresholded[i,j] = 0\n",
    "            elif g_suppressed[i,j] >= low_threshold and g_suppressed[i,j] < high_threshold: \n",
    "                g_thresholded[i,j] = 128\n",
    "            else:\n",
    "                g_thresholded[i,j] = 255\n",
    "    return g_thresholded\n",
    "dth = _double_thresholding(nms,100,200)"
   ]
  },
  {
   "cell_type": "code",
   "execution_count": 63,
   "id": "72269f7d",
   "metadata": {},
   "outputs": [],
   "source": [
    "#bổ sung điểm ảnh\n",
    "def _hysteresis(g_thresholded):\n",
    "    g_strong = np.zeros(g_thresholded.shape)\n",
    "    for i in range(0, g_thresholded.shape[0]):\n",
    "        for j in range(0, g_thresholded.shape[1]):\n",
    "            val = g_thresholded[i,j]\n",
    "            if val == 128:\n",
    "                if g_thresholded[i-1,j] == 255 or g_thresholded[i+1,j] == 255 or g_thresholded[i-1,j-1] == 255 or g_thresholded[i+1,j-1] == 255 or g_thresholded[i-1,j+1] == 255 or g_thresholded[i+1,j+1] == 255 or g_thresholded[i,j-1] == 255 or g_thresholded[i,j+1] == 255:\n",
    "                    g_strong[i,j] = 255\n",
    "            elif val == 255:\n",
    "                g_strong[i,j] = 255\n",
    "    return g_strong\n",
    "result = _hysteresis(dth)"
   ]
  },
  {
   "cell_type": "code",
   "execution_count": null,
   "id": "23c2bdc5",
   "metadata": {},
   "outputs": [],
   "source": []
  }
 ],
 "metadata": {
  "kernelspec": {
   "display_name": "Python 3 (ipykernel)",
   "language": "python",
   "name": "python3"
  },
  "language_info": {
   "codemirror_mode": {
    "name": "ipython",
    "version": 3
   },
   "file_extension": ".py",
   "mimetype": "text/x-python",
   "name": "python",
   "nbconvert_exporter": "python",
   "pygments_lexer": "ipython3",
   "version": "3.10.4"
  }
 },
 "nbformat": 4,
 "nbformat_minor": 5
}
